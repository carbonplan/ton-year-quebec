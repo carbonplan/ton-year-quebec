{
 "cells": [
  {
   "cell_type": "code",
   "execution_count": null,
   "id": "403399ba",
   "metadata": {},
   "outputs": [],
   "source": [
    "import intake\n",
    "import pandas as pd\n",
    "from pint import UnitRegistry"
   ]
  },
  {
   "cell_type": "code",
   "execution_count": null,
   "id": "2e350f35",
   "metadata": {},
   "outputs": [],
   "source": [
    "ureg = UnitRegistry()\n",
    "co2_over_c = 44 / 12  # should be able to do in pint. todo: carbonplan[units]?"
   ]
  },
  {
   "cell_type": "code",
   "execution_count": null,
   "id": "3841a9b8",
   "metadata": {},
   "outputs": [],
   "source": [
    "def pct_change(new: float, old: float) -> float:\n",
    "    \"\"\"calculate percent change between two numbers\"\"\"\n",
    "    return round((new - old) / old, 3)\n",
    "\n",
    "\n",
    "def load_albedo_data(biome: str) -> pd.DataFrame:\n",
    "    \"\"\"Open alebdo data from Drever et al., 2022 paper\n",
    "\n",
    "    Stored with a few nested layers [described in the metadata]\n",
    "    Default units are kg C m-2\n",
    "    \"\"\"\n",
    "\n",
    "    cat = intake.open_catalog(\"../source.yaml\")\n",
    "    raw_data = cat.canada_ecoregion_albedo(\n",
    "        biome=biome, excel_kwargs={\"header\": None}\n",
    "    ).read()\n",
    "\n",
    "    all_rows = raw_data.values\n",
    "\n",
    "    statistic = all_rows[0]\n",
    "    model = all_rows[1]\n",
    "    scenario = all_rows[2]\n",
    "\n",
    "    data = []\n",
    "    for row in all_rows[3:]:\n",
    "        ecoregion = row[0]\n",
    "        for idx, value in enumerate(row[1:]):\n",
    "            true_idx = idx + 1\n",
    "            data.append(\n",
    "                (\n",
    "                    ecoregion,\n",
    "                    statistic[true_idx],\n",
    "                    model[true_idx],\n",
    "                    scenario[true_idx],\n",
    "                    value,\n",
    "                )\n",
    "            )\n",
    "    df = pd.DataFrame(\n",
    "        data, columns=[\"ecoregion\", \"stat\", \"model\", \"scenario\", \"delta_c\"]\n",
    "    )\n",
    "    return df"
   ]
  },
  {
   "cell_type": "code",
   "execution_count": null,
   "id": "a6dfb7ea",
   "metadata": {},
   "outputs": [],
   "source": [
    "biomes = [\"ENF\", \"DBF\"]\n",
    "\n",
    "store = {}\n",
    "for biome in biomes:\n",
    "    df = load_albedo_data(biome)\n",
    "    ecoregion = df[(df[\"ecoregion\"] == 117) & (df[\"scenario\"] == \"Obs Snow\")]\n",
    "    median_over_kernels = ecoregion.groupby([\"stat\"]).delta_c.median().to_dict()\n",
    "    vals = {\n",
    "        k: round((v * ureg(\"kg\") / ureg.meter**2).to(\"t/ha\") * co2_over_c, 2)\n",
    "        for k, v in median_over_kernels.items()\n",
    "    }\n",
    "\n",
    "    store[biome] = vals\n",
    "\n",
    "display(store)"
   ]
  },
  {
   "cell_type": "markdown",
   "id": "05b8944e",
   "metadata": {},
   "source": [
    "### over-crediting"
   ]
  },
  {
   "cell_type": "code",
   "execution_count": null,
   "id": "67337aae",
   "metadata": {},
   "outputs": [],
   "source": [
    "peak_carbon = 275 * ureg(\"t/ha\")\n",
    "\n",
    "overcredit_d = {}\n",
    "for biome, albedo_d in store.items():\n",
    "    overcredit_d[biome] = {\n",
    "        k: pct_change(sum([peak_carbon, v]), peak_carbon) for k, v in albedo_d.items()\n",
    "    }\n",
    "\n",
    "display(overcredit_d)"
   ]
  }
 ],
 "metadata": {
  "kernelspec": {
   "display_name": "Python 3 (ipykernel)",
   "language": "python",
   "name": "python3"
  }
 },
 "nbformat": 4,
 "nbformat_minor": 5
}
