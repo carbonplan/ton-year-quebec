{
 "cells": [
  {
   "cell_type": "markdown",
   "id": "86810e07-73c1-4236-abe0-a2be828b6591",
   "metadata": {},
   "source": [
    "# Quebec equivalence graph"
   ]
  },
  {
   "cell_type": "code",
   "execution_count": null,
   "id": "81d85725-6031-4e55-a86e-46e08516e1e3",
   "metadata": {},
   "outputs": [],
   "source": [
    "from collections import defaultdict\n",
    "from itertools import product\n",
    "import json\n",
    "import os\n",
    "import sys\n",
    "\n",
    "from carbonplan_styles.mpl import set_theme\n",
    "from carbonplan_styles.colors import colors\n",
    "from fair.SSPs import ssp245\n",
    "import fair_equivalence_graphs as temp\n",
    "import matplotlib.pyplot as plt\n",
    "import numpy as np\n",
    "import seaborn as sns\n",
    "import tonyear"
   ]
  },
  {
   "cell_type": "code",
   "execution_count": null,
   "id": "44364d40",
   "metadata": {},
   "outputs": [],
   "source": [
    "save_data = False"
   ]
  },
  {
   "cell_type": "code",
   "execution_count": null,
   "id": "53a5a0e6-1e0d-422b-8803-99d5d581fa11",
   "metadata": {},
   "outputs": [],
   "source": [
    "sns.set(font_scale=1.5)\n",
    "sns.set_style(\"white\")\n",
    "\n",
    "set_theme(style=\"carbonplan_light\")\n",
    "c = colors(\"carbonplan_light\")"
   ]
  },
  {
   "cell_type": "code",
   "execution_count": null,
   "id": "fe8539dd-2db4-4404-b498-9f04e0994e39",
   "metadata": {},
   "outputs": [],
   "source": [
    "joos_baseline = tonyear.get_baseline_curve(\"joos_2013\")\n",
    "time_horizon = 100\n",
    "discount_rate = 0\n",
    "delays = [1, 10, 20, 50, 80, 100]\n",
    "methods = [\"qc\", \"lashof\", \"mc\"]"
   ]
  },
  {
   "cell_type": "code",
   "execution_count": null,
   "id": "189fc56d-2572-4b72-baf4-1a079033981f",
   "metadata": {},
   "outputs": [
    {
     "name": "stdout",
     "output_type": "stream",
     "text": [
      "Justified emissions: 1 GtCO2\n"
     ]
    },
    {
     "data": {
      "text/plain": [
       "Text(0, 0.5, 'Temperature difference (K)')"
      ]
     },
     "execution_count": null,
     "metadata": {},
     "output_type": "execute_result"
    },
    {
     "data": {
      "image/png": "[encoded data removed]",
      "text/plain": [
       "<Figure size 432x288 with 1 Axes>"
      ]
     },
     "metadata": {},
     "output_type": "display_data"
    }
   ],
   "source": [
    "scenario = ssp245\n",
    "delay_yr = 2022\n",
    "time_horizon = 100\n",
    "\n",
    "delay = 10  # years\n",
    "equivalence_ratio = d[delay][\"qc\"]\n",
    "delay_magnitude = equivalence_ratio * (12 / 44)  # tonyear produces co2, FaIR wants C\n",
    "\n",
    "\n",
    "print(\n",
    "    f\"Justified emissions: {round((delay_magnitude / equivalence_ratio)*(44/12))} GtCO2\"\n",
    ")\n",
    "\n",
    "storage, reemission, justified = temp.get_perturbations(\n",
    "    scenario, delay_yr, delay, delay_magnitude, equivalence_ratio\n",
    ")\n",
    "_, fair_results = temp.run_fair(scenario, storage, reemission, justified)\n",
    "\n",
    "t_diff = {\n",
    "    \"offset\": np.array(fair_results[\"offset\"][\"temp\"])\n",
    "    - np.array(fair_results[\"default\"][\"temp\"]),\n",
    "    \"baseline\": np.array(fair_results[\"default\"][\"temp\"])\n",
    "    - np.array(fair_results[\"default\"][\"temp\"]),\n",
    "    \"emission\": np.array(fair_results[\"justified\"][\"temp\"])\n",
    "    - np.array(fair_results[\"default\"][\"temp\"]),\n",
    "}\n",
    "\n",
    "years = scenario.Emissions.year\n",
    "plt.plot(years, t_diff[\"baseline\"], label=\"Baseline\")\n",
    "plt.plot(years, t_diff[\"emission\"], label=\"Emissions only\")\n",
    "plt.plot(years, t_diff[\"offset\"], label=f\"Emissions + temporary storage\")\n",
    "\n",
    "plt.xlim(2010, 2110)\n",
    "plt.ylim(-0.003, 0.001)\n",
    "\n",
    "plt.legend(frameon=False, loc=\"upper left\", bbox_to_anchor=(0.25, 0.6))\n",
    "plt.xlabel(\"Year\")\n",
    "plt.ylabel(\"Temperature difference (K)\")"
   ]
  },
  {
   "cell_type": "markdown",
   "id": "f8189c71-8d2a-4299-8bdb-edac49f2965a",
   "metadata": {},
   "source": [
    "## Package for front-end"
   ]
  },
  {
   "cell_type": "code",
   "execution_count": null,
   "id": "0eafc1f3-f6d5-428e-a19b-ec63ea607214",
   "metadata": {},
   "outputs": [],
   "source": [
    "def sample_t_diff_curve(t_diff: np.array, years: np.array, freq=5) -> np.array:\n",
    "    \"\"\"Sample from temperature difference curves to repackage for frontend display\"\"\"\n",
    "    data = np.vstack([years, t_diff]).T[::freq]\n",
    "    return data\n",
    "\n",
    "\n",
    "def clip_sampled_curve(sampled_curve: np.array, from_year=2000, to_year=2120):\n",
    "    \"\"\"subsample again to specific time domain we're interested in\"\"\"\n",
    "    from__idx = np.where(sampled_curve[:, 0] == from_year)[0][0]\n",
    "    to_idx = row_idx = np.where(sampled_curve[:, 0] == to_year)[0][0] + 1\n",
    "    return sampled_curve[from__idx:to_idx]\n",
    "\n",
    "\n",
    "def clipped_to_frontend_arr(clipped_curve: np.array) -> dict:\n",
    "    \"\"\"\"\"\"\n",
    "    return [{\"y\": row[0], \"x\": round(row[1], 6)} for row in clipped_curve]\n",
    "\n",
    "\n",
    "def reformat_for_frontend(arr, years):\n",
    "    \"\"\"stringing together the underlying three steps\"\"\"\n",
    "    sampled = sample_t_diff_curve(arr, years)\n",
    "    clipped = clip_sampled_curve(sampled)\n",
    "    fe_arr = clipped_to_frontend_arr(clipped)\n",
    "    return fe_arr"
   ]
  },
  {
   "cell_type": "code",
   "execution_count": null,
   "id": "ad6417c4-f11a-42c4-a455-7069ef16f632",
   "metadata": {},
   "outputs": [],
   "source": [
    "if save_data:\n",
    "    print(\"saving data to /tmp\")\n",
    "    json.dump(\n",
    "        {k: reformat_for_frontend(v, years) for k, v in t_diff.items()},\n",
    "        open(\"/tmp/equivalence-chart-data.json\", \"w\"),\n",
    "    )"
   ]
  }
 ],
 "metadata": {
  "kernelspec": {
   "display_name": "Python 3 (ipykernel)",
   "language": "python",
   "name": "python3"
  }
 },
 "nbformat": 4,
 "nbformat_minor": 5
}
